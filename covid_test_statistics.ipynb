{
 "cells": [
  {
   "cell_type": "markdown",
   "metadata": {},
   "source": [
    "# Covid antigen test statistics\n",
    "\n",
    "Here I will try to calculate the probabilities around antigen tests results and the real probabilities of having Covid19.\n",
    "\n",
    "In this approach I will use Bayes theorem. \n",
    "\n",
    "$$P(H|E) = \\frac{P(E|H) * P(H)}{P(E)}$$\n",
    "\n",
    "Let's see break it down into its components.\n",
    "- P(H|E) is the probability of a hypothesis being true given an event. In this example, I am interested to know what is the probability of not having Covid given that I got a negative test result.\n",
    "- P(E|H) is the probability of my test being negative given that I don't have Covid. This is called the \"specificity\" of the test.\n",
    "- P(H) is the prior probability of not having Covid.\n",
    "- P(E) is the probability of a test being negative. This can be broken down even more:\n",
    "\n",
    "$$P(H|E) = \\frac{P(E|H) * P(H)}{P(H)*P(E|H) + P(¬H) * P(E|¬H)}$$\n",
    "\n",
    "- P(¬H) is the probability of having Covid (remember that my hypothesis H is that I don't have Covid).\n",
    "- P(E|¬H) is the probability of a test being negative given that I have Covid.\n",
    "\n",
    "Even though I only need specificity, I will still document specificity and sensitivity in case I need them in the future.\n",
    "\n",
    "Sensitivity and specificity will come from the most recent studies ([Dinnes et al., 2021](https://www.cochranelibrary.com/cdsr/doi/10.1002/14651858.CD013705.pub2/full); [Turcato et al., 2022](https://www.sciencedirect.com/science/article/pii/S0735675721008573)). \n",
    "\n",
    "Both studies used data up to end of 2020, which is not very recent, so I will stick to the most conservative values, considering that antigen tests could be worse at detecting the new Omicron variant of the virus.\n",
    "\n",
    "Also, I will distinguish between symptomatic and asymptomatic cases, because the statistical properties differ among them."
   ]
  },
  {
   "cell_type": "markdown",
   "metadata": {},
   "source": [
    "\n",
    "## Evaluation metrics of antigen tests\n",
    "\n",
    "The Bayes formula requires sensitivity and specificity and false-positive rate. Sensitivity of a test (true positive rate) is the probability of getting a positive test result given that the person has the condition.\n",
    "\n",
    "$$Sensitivity = \\frac{True Positives}{True Positives + False Negatives}$$\n",
    "\n",
    "Specificity (false negative rate), on the other hand, refers to the probability of getting a negative result when the person does not have the condition.\n",
    "\n",
    "$$Specificity = \\frac{True Negatives}{True Negatives + False Positives}$$\n",
    "\n",
    "Below I will include sensitivity and specificity of antigen tests according to different authors. They also include 95% confidence intervals."
   ]
  },
  {
   "cell_type": "markdown",
   "metadata": {},
   "source": [
    "### Dinnes et al., 2021\n",
    "\n",
    "They didn't provide raw data for the tables, although they reported their sensitivity and specificity estimates.\n",
    "\n",
    "*Symptomatic patients:*\n",
    "\n",
    "- Sensitivity: 72.0% (63.7–79.0)\n",
    "- Specificity: 99.5% (98.5–99.8)\n",
    "\n",
    "*Asymptomatic patients:*\n",
    "\n",
    "- Sensitivity: 58.1% (40.2–74.1)\n",
    "- Specificity: 98.9% (93.6–99.8)"
   ]
  },
  {
   "cell_type": "markdown",
   "metadata": {},
   "source": [
    "\n",
    "### Turcato et al., 2022\n",
    "\n",
    "*Symptomatic patients:*\n",
    "\n",
    "|                  | Healthy | Infected |\n",
    "|------------------|---------|----------|\n",
    "| Negative antigen | 876     | 30       |\n",
    "| Positive antigen | 21      | 264      |\n",
    "\n",
    "- Sensitivity: 89.8% (88.0–91.5)\n",
    "- Specificity: 97.6% (97.1–98.1)\n",
    "\n",
    "*Asymptomatic patients*:\n",
    "\n",
    "|                  | Healthy | Infected |\n",
    "|------------------|---------|----------|\n",
    "| Negative antigen | 2594    | 38       |\n",
    "| Positive antigen | 11      | 65       |\n",
    "\n",
    "- Sensitivity: 63.1% (58.4–67.8)\n",
    "- Specificity: 99.6% (99.5–99.7)"
   ]
  },
  {
   "cell_type": "code",
   "execution_count": 18,
   "metadata": {},
   "outputs": [
    {
     "name": "stdout",
     "output_type": "stream",
     "text": [
      "Values for asymptomatic patients (Turcato et al., 2022):\n",
      "sensitivity: 0.631\n",
      "specificity: 0.996\n"
     ]
    }
   ],
   "source": [
    "# confirming sensitivity and specificity values for asymptomatic patients in Turcato et al., 2022\n",
    "sensitivity = 65/(65+38)\n",
    "specificity = 2594/(2594+11)\n",
    "\n",
    "print('Values for asymptomatic patients (Turcato et al., 2022):')\n",
    "print(\"sensitivity:\", round(sensitivity, 3))\n",
    "print(\"specificity:\", round(specificity, 3))"
   ]
  },
  {
   "cell_type": "markdown",
   "metadata": {},
   "source": [
    "\n",
    "\n",
    "### Conclusions, which values to use?\n",
    "\n",
    "As we said in the beginning, we will use the most conservative values, namely, the ones from Turcato et al. (2022). Moreover, we will just consider the asymptomatic patients, which is my case."
   ]
  },
  {
   "cell_type": "code",
   "execution_count": 23,
   "metadata": {},
   "outputs": [],
   "source": [
    "sensitity = 0.581\n",
    "specificity = 0.989\n",
    "false_positive_rate = 1 - specificity"
   ]
  },
  {
   "cell_type": "markdown",
   "metadata": {},
   "source": [
    "## Prior probability of not having Covid\n",
    "\n",
    "Getting an exact value is not easy, because it has many influencing factors. A good start is the 7-day incidence rate (per 100,000 inhabitants). Luckily this data is [updated very often](https://lua.rlp.de/de/presse/detail/news/News/detail/coronavirus-sars-cov-2-aktuelle-fallzahlen-fuer-rheinland-pfalz/) and it even includes separated statistics for age groups.\n",
    "\n",
    "    7-day incidence in Kaiserslautern (10.01.2022): 827.\n",
    "\n",
    "The prior probability of not having Covid should be given by:\n",
    "\n",
    "$$ 1 - \\frac{7-day-incidence}{100,000}$$"
   ]
  },
  {
   "cell_type": "code",
   "execution_count": 17,
   "metadata": {},
   "outputs": [],
   "source": [
    "prior = 1 - 827/100000"
   ]
  },
  {
   "cell_type": "markdown",
   "metadata": {},
   "source": [
    "## Plugging in the numbers into Bayes formula\n",
    "\n",
    "$$P(H|E) = \\frac{P(E|H) * P(H)}{P(H)*P(E|H) + P(¬H) * P(E|¬H)}$$\n"
   ]
  },
  {
   "cell_type": "code",
   "execution_count": 24,
   "metadata": {},
   "outputs": [],
   "source": [
    "p_E_H = specificity\n",
    "p_H = prior\n",
    "P_not_H = 1 - p_H\n",
    "P_E_not_H = false_positive_rate"
   ]
  },
  {
   "cell_type": "code",
   "execution_count": 41,
   "metadata": {},
   "outputs": [
    {
     "name": "stdout",
     "output_type": "stream",
     "text": [
      "My probability of not being infected given that I have a negative test is 99.99%\n"
     ]
    }
   ],
   "source": [
    "p_H_E = p_E_H * p_H / (p_H * p_E_H + P_not_H * P_E_not_H)\n",
    "print(f'My probability of not being infected given that I have a negative test is {p_H_E*100:.2f}%')"
   ]
  },
  {
   "cell_type": "markdown",
   "metadata": {},
   "source": [
    "That was on Thursday. However, on Friday I had contact with a friend who developed symptoms and had a positive antigen test. She might have infected me during our interaction, so I would like to calculate my probability of having Covid after that event.\n",
    "\n",
    "We need to update the prior probability accordingly.\n"
   ]
  },
  {
   "cell_type": "markdown",
   "metadata": {},
   "source": []
  }
 ],
 "metadata": {
  "interpreter": {
   "hash": "8c77e9c39686e6893d512665577544f360aa4a406f497faae6f03c9267427f1a"
  },
  "kernelspec": {
   "display_name": "Python 3.6.4 32-bit",
   "language": "python",
   "name": "python3"
  },
  "language_info": {
   "codemirror_mode": {
    "name": "ipython",
    "version": 3
   },
   "file_extension": ".py",
   "mimetype": "text/x-python",
   "name": "python",
   "nbconvert_exporter": "python",
   "pygments_lexer": "ipython3",
   "version": "3.6.4"
  },
  "orig_nbformat": 4
 },
 "nbformat": 4,
 "nbformat_minor": 2
}
