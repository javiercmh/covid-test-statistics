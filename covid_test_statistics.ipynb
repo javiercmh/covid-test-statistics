{
 "cells": [
  {
   "cell_type": "markdown",
   "metadata": {},
   "source": [
    "# Covid test statistics\n",
    "\n",
    "Here I will try to calculate the probabilities around test results and the real probabilities of having Covid19.\n",
    "\n",
    "In this approach I will use Bayes theorem. Sensitivity and specificity will come from the most recent studies."
   ]
  },
  {
   "cell_type": "markdown",
   "metadata": {},
   "source": []
  }
 ],
 "metadata": {
  "language_info": {
   "name": "python"
  },
  "orig_nbformat": 4
 },
 "nbformat": 4,
 "nbformat_minor": 2
}
